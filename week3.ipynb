{
 "cells": [
  {
   "cell_type": "code",
   "execution_count": 6,
   "metadata": {},
   "outputs": [],
   "source": [
    "#1. Consider the hepatitis/ pima-indians-diabetes csv file, perform the following date pre-processing.\n",
    "##1. Load data in Pandas.\n",
    "##2. Drop columns that aren’t useful.\n",
    "##3. Drop rows with missing values.\n",
    "##4. Create dummy variables.\n",
    "##5. Take care of missing data.\n",
    "##6. Convert the data frame to NumPy.\n",
    "##7. Divide the data set into training data and test data.\n",
    "##write this as numpy coment"
   ]
  },
  {
   "cell_type": "code",
   "execution_count": 1,
   "metadata": {},
   "outputs": [
    {
     "name": "stdout",
     "output_type": "stream",
     "text": [
      "Dropped age and sex column\n"
     ]
    }
   ],
   "source": [
    "import pandas as pd\n",
    "data=pd.read_csv('hepatitis_csv.csv')\n",
    "columns_to_drop = ['age', 'sex']\n",
    "data = data.drop(columns=columns_to_drop)\n",
    "print(\"Dropped age and sex column\")\n",
    "\n"
   ]
  },
  {
   "cell_type": "raw",
   "metadata": {},
   "source": []
  },
  {
   "cell_type": "code",
   "execution_count": 2,
   "metadata": {},
   "outputs": [
    {
     "name": "stdout",
     "output_type": "stream",
     "text": [
      "Original data: (155, 18)\n",
      "Cleaned data: (80, 18)\n"
     ]
    }
   ],
   "source": [
    "data_cleaned=data.dropna()\n",
    "\n",
    "print(\"Original data:\",data.shape)\n",
    "print(\"Cleaned data:\", data_cleaned.shape)\n"
   ]
  },
  {
   "cell_type": "code",
   "execution_count": 3,
   "metadata": {
    "scrolled": true
   },
   "outputs": [
    {
     "name": "stdout",
     "output_type": "stream",
     "text": [
      "  steroid  antivirals fatigue malaise anorexia liver_firm spleen_palpable  \\\n",
      "0   False       False   False   False    False      False           False   \n",
      "1   False       False    True   False    False      False           False   \n",
      "2    True       False    True   False    False      False           False   \n",
      "3     NaN        True   False   False    False      False           False   \n",
      "4    True       False   False   False    False      False           False   \n",
      "\n",
      "  spiders ascites varices  bilirubin  alk_phosphate   sgot  albumin  protime  \\\n",
      "0   False   False   False        1.0           85.0   18.0      4.0      NaN   \n",
      "1   False   False   False        0.9          135.0   42.0      3.5      NaN   \n",
      "2   False   False   False        0.7           96.0   32.0      4.0      NaN   \n",
      "3   False   False   False        0.7           46.0   52.0      4.0     80.0   \n",
      "4   False   False   False        1.0            NaN  200.0      4.0      NaN   \n",
      "\n",
      "   histology class  liver_big_False  liver_big_True  \n",
      "0      False  live             True           False  \n",
      "1      False  live             True           False  \n",
      "2      False  live            False            True  \n",
      "3      False  live            False            True  \n",
      "4      False  live            False            True  \n"
     ]
    }
   ],
   "source": [
    "categorical_column='liver_big'\n",
    "dummy_variables=pd.get_dummies(data[categorical_column],prefix=categorical_column)\n",
    "data_with_dummies=pd.concat([data,dummy_variables],axis=1)\n",
    "data_with_dummies.drop(columns=[categorical_column], inplace=True)\n",
    "print(data_with_dummies.head())"
   ]
  },
  {
   "cell_type": "code",
   "execution_count": 12,
   "metadata": {},
   "outputs": [
    {
     "data": {
      "text/html": [
       "<div>\n",
       "<style scoped>\n",
       "    .dataframe tbody tr th:only-of-type {\n",
       "        vertical-align: middle;\n",
       "    }\n",
       "\n",
       "    .dataframe tbody tr th {\n",
       "        vertical-align: top;\n",
       "    }\n",
       "\n",
       "    .dataframe thead th {\n",
       "        text-align: right;\n",
       "    }\n",
       "</style>\n",
       "<table border=\"1\" class=\"dataframe\">\n",
       "  <thead>\n",
       "    <tr style=\"text-align: right;\">\n",
       "      <th></th>\n",
       "      <th>StudyTime</th>\n",
       "      <th>Score</th>\n",
       "    </tr>\n",
       "  </thead>\n",
       "  <tbody>\n",
       "    <tr>\n",
       "      <th>0</th>\n",
       "      <td>6.243562</td>\n",
       "      <td>14.904693</td>\n",
       "    </tr>\n",
       "    <tr>\n",
       "      <th>1</th>\n",
       "      <td>14.310000</td>\n",
       "      <td>36.588841</td>\n",
       "    </tr>\n",
       "    <tr>\n",
       "      <th>2</th>\n",
       "      <td>11.247915</td>\n",
       "      <td>27.424661</td>\n",
       "    </tr>\n",
       "    <tr>\n",
       "      <th>3</th>\n",
       "      <td>9.381219</td>\n",
       "      <td>22.754452</td>\n",
       "    </tr>\n",
       "    <tr>\n",
       "      <th>4</th>\n",
       "      <td>3.184261</td>\n",
       "      <td>8.323596</td>\n",
       "    </tr>\n",
       "    <tr>\n",
       "      <th>5</th>\n",
       "      <td>3.183923</td>\n",
       "      <td>5.089888</td>\n",
       "    </tr>\n",
       "    <tr>\n",
       "      <th>6</th>\n",
       "      <td>1.813171</td>\n",
       "      <td>1.945550</td>\n",
       "    </tr>\n",
       "    <tr>\n",
       "      <th>7</th>\n",
       "      <td>13.126466</td>\n",
       "      <td>31.972734</td>\n",
       "    </tr>\n",
       "    <tr>\n",
       "      <th>8</th>\n",
       "      <td>9.415610</td>\n",
       "      <td>22.019779</td>\n",
       "    </tr>\n",
       "    <tr>\n",
       "      <th>9</th>\n",
       "      <td>10.913016</td>\n",
       "      <td>27.753911</td>\n",
       "    </tr>\n",
       "  </tbody>\n",
       "</table>\n",
       "</div>"
      ],
      "text/plain": [
       "   StudyTime      Score\n",
       "0   6.243562  14.904693\n",
       "1  14.310000  36.588841\n",
       "2  11.247915  27.424661\n",
       "3   9.381219  22.754452\n",
       "4   3.184261   8.323596\n",
       "5   3.183923   5.089888\n",
       "6   1.813171   1.945550\n",
       "7  13.126466  31.972734\n",
       "8   9.415610  22.019779\n",
       "9  10.913016  27.753911"
      ]
     },
     "execution_count": 12,
     "metadata": {},
     "output_type": "execute_result"
    }
   ],
   "source": [
    "data=data.dropna()\n",
    "data"
   ]
  },
  {
   "cell_type": "code",
   "execution_count": 13,
   "metadata": {},
   "outputs": [
    {
     "name": "stdout",
     "output_type": "stream",
     "text": [
      "Converted to Numpy\n"
     ]
    }
   ],
   "source": [
    "numpy_data=data.to_numpy()\n",
    "print(\"Converted to Numpy\")"
   ]
  },
  {
   "cell_type": "code",
   "execution_count": 14,
   "metadata": {},
   "outputs": [
    {
     "name": "stdout",
     "output_type": "stream",
     "text": [
      "Divided data into training data and test data\n"
     ]
    }
   ],
   "source": [
    "from sklearn.model_selection import train_test_split\n",
    "x = numpy_data[:, :-1]  \n",
    "y = numpy_data[:, -1]    \n",
    "x_train, x_test, y_train, y_test = train_test_split(x, y, test_size=0.2, random_state=42)\n",
    "print(\"Divided data into training data and test data\")"
   ]
  },
  {
   "cell_type": "code",
   "execution_count": 15,
   "metadata": {},
   "outputs": [],
   "source": [
    "#2. Consider the hepatitis/ diabetes csv file, create the regression model display the co-efficients (B0-intercept\n",
    "#and B1-Slope), RMSE and predict the response. Plot the graph x v/s y in yellow and x v/s prediction in green."
   ]
  },
  {
   "cell_type": "code",
   "execution_count": 11,
   "metadata": {},
   "outputs": [
    {
     "name": "stdout",
     "output_type": "stream",
     "text": [
      "Intercept: 58.51105577561223\n",
      "Slope: [0.09178267]\n",
      "RMSE: 18.895013732107603\n"
     ]
    },
    {
     "data": {
      "image/png": "[encoded data removed]",
      "text/plain": [
       "<Figure size 432x288 with 1 Axes>"
      ]
     },
     "metadata": {
      "needs_background": "light"
     },
     "output_type": "display_data"
    }
   ],
   "source": [
    "import numpy as np\n",
    "import pandas as pd\n",
    "import matplotlib.pyplot as plt\n",
    "from sklearn.model_selection import train_test_split\n",
    "from sklearn.linear_model import LinearRegression\n",
    "from sklearn.metrics import mean_squared_error\n",
    "\n",
    "data2 = pd.read_csv('diabetes_csv.csv')\n",
    "\n",
    "x = data2['Glucose']\n",
    "y = data2['BloodPressure']\n",
    "x_train, x_test, y_train, y_test = train_test_split(x, y, test_size=0.3, random_state=0)\n",
    "\n",
    "# Reshape the input arrays\n",
    "x_train = x_train.values.reshape(-1, 1)\n",
    "x_test = x_test.values.reshape(-1, 1)\n",
    "\n",
    "model = LinearRegression()\n",
    "model.fit(x_train, y_train)\n",
    "\n",
    "intercept = model.intercept_\n",
    "slope = model.coef_\n",
    "print(\"Intercept:\", intercept)\n",
    "print(\"Slope:\", slope)\n",
    "\n",
    "y_pred = model.predict(x_test)\n",
    "\n",
    "rmse = np.sqrt(mean_squared_error(y_test, y_pred))\n",
    "print(\"RMSE:\", rmse)\n",
    "\n",
    "plt.scatter(x, y, color='yellow', label='Actual Data')\n",
    "plt.plot(x_test, y_pred, color='green', label='Predicted Data')\n",
    "plt.xlabel('X')\n",
    "plt.ylabel('Y')\n",
    "plt.title('Regression Model: Actual vs. Predicted')\n",
    "plt.legend()\n",
    "plt.show()\n"
   ]
  },
  {
   "cell_type": "code",
   "execution_count": 8,
   "metadata": {},
   "outputs": [],
   "source": [
    "#1. Construct a training data of CSV file with attributes(Study-time in hours of ML lab course (x), Score out of\n",
    "#10 (y)) of 10 rows. Create the regression model display the co-efficients (B0-intercept and B1-Slope),\n",
    "#RMSE and predict the response. Plot the graph x v/s y in red and x v/s prediction in blue. Test your\n",
    "#model to predict score obtained when study time of a student is 10 hours"
   ]
  },
  {
   "cell_type": "code",
   "execution_count": 9,
   "metadata": {},
   "outputs": [
    {
     "name": "stdout",
     "output_type": "stream",
     "text": [
      "   StudyTime      Score\n",
      "0   6.243562  14.904693\n",
      "1  14.310000  36.588841\n",
      "2  11.247915  27.424661\n",
      "3   9.381219  22.754452\n",
      "4   3.184261   8.323596\n",
      "5   3.183923   5.089888\n",
      "6   1.813171   1.945550\n",
      "7  13.126466  31.972734\n",
      "8   9.415610  22.019779\n",
      "9  10.913016  27.753911\n",
      "Intercept (B0): -2.1662827307746255\n",
      "Slope (B1): 2.661714712930248\n",
      "RMSE: 0.9482815359939469\n"
     ]
    },
    {
     "data": {
      "image/png": "[encoded data removed]",
      "text/plain": [
       "<Figure size 432x288 with 1 Axes>"
      ]
     },
     "metadata": {
      "needs_background": "light"
     },
     "output_type": "display_data"
    },
    {
     "name": "stdout",
     "output_type": "stream",
     "text": [
      "Predicted Score for 10 hours of study time: 24.45\n"
     ]
    },
    {
     "name": "stderr",
     "output_type": "stream",
     "text": [
      "/home/Student/.local/lib/python3.8/site-packages/sklearn/base.py:464: UserWarning: X does not have valid feature names, but LinearRegression was fitted with feature names\n",
      "  warnings.warn(\n"
     ]
    }
   ],
   "source": [
    "import numpy as np\n",
    "import pandas as pd\n",
    "import matplotlib.pyplot as plt\n",
    "from sklearn.linear_model import LinearRegression\n",
    "from sklearn.metrics import mean_squared_error\n",
    "\n",
    "# Create a synthetic training dataset\n",
    "np.random.seed(42)\n",
    "study_time = np.random.uniform(1, 15, 10)  # Study-time in hours\n",
    "score = 2.5 * study_time + np.random.normal(0, 1.5, 10)  # Linear relation with noise\n",
    "\n",
    "data = pd.DataFrame({'StudyTime': study_time, 'Score': score})\n",
    "\n",
    "# Display the training data\n",
    "print(data)\n",
    "\n",
    "# Extract features (X) and target (y)\n",
    "X = data[['StudyTime']]\n",
    "y = data['Score']\n",
    "\n",
    "# Build the linear regression model\n",
    "model = LinearRegression()\n",
    "model.fit(X, y)\n",
    "\n",
    "# Get the coefficients (intercept and slope)\n",
    "intercept = model.intercept_\n",
    "slope = model.coef_[0]\n",
    "\n",
    "print(\"Intercept (B0):\", intercept)\n",
    "print(\"Slope (B1):\", slope)\n",
    "\n",
    "# Make predictions\n",
    "y_pred = model.predict(X)\n",
    "\n",
    "# Calculate RMSE\n",
    "rmse = np.sqrt(mean_squared_error(y, y_pred))\n",
    "print(\"RMSE:\", rmse)\n",
    "\n",
    "# Plot the data and predictions\n",
    "plt.scatter(X, y, color='red', label='Actual Data')\n",
    "plt.plot(X, y_pred, color='blue', label='Predicted Data')\n",
    "plt.xlabel('Study Time (hours)')\n",
    "plt.ylabel('Score')\n",
    "plt.title('Regression Model: Actual vs. Predicted')\n",
    "plt.legend()\n",
    "plt.show()\n",
    "\n",
    "# Test the model to predict score for a study time of 10 hours\n",
    "study_time_new = 10\n",
    "score_predicted = model.predict([[study_time_new]])\n",
    "print(\"Predicted Score for {} hours of study time: {:.2f}\".format(study_time_new, score_predicted[0]))\n"
   ]
  },
  {
   "cell_type": "code",
   "execution_count": null,
   "metadata": {},
   "outputs": [],
   "source": []
  },
  {
   "cell_type": "code",
   "execution_count": null,
   "metadata": {},
   "outputs": [],
   "source": []
  }
 ],
 "metadata": {
  "kernelspec": {
   "display_name": "Python 3",
   "language": "python",
   "name": "python3"
  },
  "language_info": {
   "codemirror_mode": {
    "name": "ipython",
    "version": 3
   },
   "file_extension": ".py",
   "mimetype": "text/x-python",
   "name": "python",
   "nbconvert_exporter": "python",
   "pygments_lexer": "ipython3",
   "version": "3.8.10"
  }
 },
 "nbformat": 4,
 "nbformat_minor": 4
}
